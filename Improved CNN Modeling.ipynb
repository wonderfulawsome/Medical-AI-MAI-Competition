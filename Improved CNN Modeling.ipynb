{
 "cells": [
  {
   "cell_type": "code",
   "execution_count": 13,
   "metadata": {},
   "outputs": [],
   "source": [
    "import os\n",
    "from PIL import Image\n",
    "import torch\n",
    "import numpy as np\n",
    "import pytorch_lightning as pl\n",
    "import torchvision.transforms as tf\n",
    "import tensorflow as tf\n",
    "import glob\n",
    "import random\n",
    "from configobj import ConfigObj"
   ]
  },
  {
   "cell_type": "code",
   "execution_count": 53,
   "metadata": {},
   "outputs": [],
   "source": [
    "# TRAIN_0000부터 TRAIN_6991까지 모든 이미지에 대한 경로 생성\n",
    "train_image_paths = [\n",
    "    r'C:\\Users\\82106\\Desktop\\데이콘\\이미지 학습\\데이터\\open\\train\\TRAIN_{:04}.png'.format(i)\n",
    "    for i in range(6992)\n",
    "]"
   ]
  },
  {
   "cell_type": "markdown",
   "metadata": {},
   "source": [
    "###  RGB -> YCbCr 전처리 함수"
   ]
  },
  {
   "cell_type": "code",
   "execution_count": 54,
   "metadata": {},
   "outputs": [],
   "source": [
    "import torch\n",
    "\n",
    "def rgb2ycbcr(image):\n",
    "    # image는 Tensor이며, shape은 (C, H, W) 또는 (N, C, H, W)\n",
    "    if image.dim() == 3:\n",
    "        # (C, H, W)인 경우\n",
    "        R = image[0, :, :]\n",
    "        G = image[1, :, :]\n",
    "        B = image[2, :, :]\n",
    "    elif image.dim() == 4:\n",
    "        # (N, C, H, W)인 경우\n",
    "        R = image[:, 0, :, :]\n",
    "        G = image[:, 1, :, :]\n",
    "        B = image[:, 2, :, :]\n",
    "    else:\n",
    "        raise ValueError('Unsupported image dimensions')\n",
    "\n",
    "    X = 0.299 * R + 0.587 * G + 0.114 * B\n",
    "    Y = (R - X) * 0.713 + 128\n",
    "    Z = (B - X) * 0.564 + 128\n",
    "\n",
    "    if image.dim() == 3:\n",
    "        X = X.unsqueeze(0)\n",
    "        Y = Y.unsqueeze(0)\n",
    "        Z = Z.unsqueeze(0)\n",
    "        ycbcr = torch.cat([X, Y, Z], dim=0)\n",
    "    else:\n",
    "        X = X.unsqueeze(1)\n",
    "        Y = Y.unsqueeze(1)\n",
    "        Z = Z.unsqueeze(1)\n",
    "        ycbcr = torch.cat([X, Y, Z], dim=1)\n",
    "    return ycbcr\n"
   ]
  },
  {
   "cell_type": "markdown",
   "metadata": {},
   "source": [
    "### 이미지 데이터 형태 변환"
   ]
  },
  {
   "cell_type": "code",
   "execution_count": 55,
   "metadata": {},
   "outputs": [],
   "source": [
    "from PIL import Image\n",
    "import numpy as np\n",
    "import torch\n",
    "\n",
    "def load_and_preprocess_image(path):\n",
    "    try:\n",
    "        # 이미지 파일 열기\n",
    "        image = Image.open(path).convert('RGB')\n",
    "        # 이미지 리사이즈\n",
    "        image = image.resize((224, 224))\n",
    "        # 이미지를 numpy 배열로 변환하고 float32로 변환\n",
    "        image_array = np.array(image).astype('float32')\n",
    "        # 정규화 (0-1 스케일링)\n",
    "        image_array /= 255.0\n",
    "        # numpy 배열을 torch.Tensor로 변환하고 차원 순서 변경 (HWC -> CHW)\n",
    "        image_tensor = torch.from_numpy(image_array).permute(2, 0, 1)\n",
    "        # rgb2ycbcr 변환 적용\n",
    "        image_tensor = rgb2ycbcr(image_tensor)\n",
    "        return image_tensor\n",
    "    except Exception as e:\n",
    "        print(f\"Error processing image {path}: {e}\")\n",
    "        return None\n"
   ]
  },
  {
   "cell_type": "code",
   "execution_count": 56,
   "metadata": {},
   "outputs": [],
   "source": [
    "def init_parameters():\n",
    "    class Config:\n",
    "        pass\n",
    "\n",
    "    # 훈련 및 검증 설정 초기화\n",
    "    train_config = Config()\n",
    "    valid_config = Config()\n",
    "    \n",
    "    train_config.is_training = True\n",
    "    valid_config.is_training = False\n",
    "    train_config.batch_size = 12\n",
    "    valid_config.batch_size = 12\n",
    "    train_config.n_channels = 16\n",
    "    valid_config.n_channels = 16\n",
    "    train_config.image_size = 256\n",
    "    valid_config.image_size = 256\n",
    "    train_config.n_threads = 2\n",
    "    valid_config.n_threads = 1\n",
    "    train_config.n_blocks = 5\n",
    "    valid_config.n_blocks = 5\n",
    "    train_config.n_levels = 4\n",
    "    valid_config.n_levels = 4\n",
    "    train_config.checkpoint = 1000\n",
    "    train_config.q_limit = 1000\n",
    "    train_config.lamda = 2000.0\n",
    "    valid_config.q_limit = 500\n",
    "    \n",
    "    return train_config, valid_config"
   ]
  },
  {
   "cell_type": "code",
   "execution_count": 57,
   "metadata": {},
   "outputs": [],
   "source": [
    "# 모델 학습 파라미터 초기화\n",
    "train_config, valid_config = init_parameters()\n",
    "patch_size = train_config.image_size\n",
    "valid_config.q_limit = 500"
   ]
  },
  {
   "cell_type": "markdown",
   "metadata": {},
   "source": [
    "### train.csv 데이터"
   ]
  },
  {
   "cell_type": "code",
   "execution_count": 58,
   "metadata": {},
   "outputs": [],
   "source": [
    "import numpy as np\n",
    "import pandas as pd\n",
    "from tqdm import tqdm\n",
    "\n",
    "train_df = pd.read_csv(r'C:\\Users\\82106\\Desktop\\데이콘\\이미지 학습\\데이터\\open\\train.csv')\n",
    "gene_columns = train_df.columns.drop(['ID', 'path'])\n",
    "labels = train_df[gene_columns].values.astype(np.float32)"
   ]
  },
  {
   "cell_type": "code",
   "execution_count": 59,
   "metadata": {},
   "outputs": [
    {
     "name": "stderr",
     "output_type": "stream",
     "text": [
      "100%|██████████| 6992/6992 [00:29<00:00, 237.36it/s]"
     ]
    },
    {
     "name": "stdout",
     "output_type": "stream",
     "text": [
      "정규화된 이미지 개수: 6992\n"
     ]
    },
    {
     "name": "stderr",
     "output_type": "stream",
     "text": [
      "\n"
     ]
    }
   ],
   "source": [
    "# 모든 이미지 전처리 수행\n",
    "normalized_images = []\n",
    "train_images = []  # 빈 리스트로 초기화\n",
    "for path in tqdm(train_image_paths):\n",
    "    image_tensor = load_and_preprocess_image(path)\n",
    "    if image_tensor is not None:\n",
    "        train_images.append(image_tensor)  # 리스트에 이미지 추가\n",
    "\n",
    "print(f\"정규화된 이미지 개수: {len(train_images)}\")"
   ]
  },
  {
   "cell_type": "markdown",
   "metadata": {},
   "source": [
    "### 데이터 분할 및 이미지 tensor 형태로 변환"
   ]
  },
  {
   "cell_type": "code",
   "execution_count": 69,
   "metadata": {},
   "outputs": [],
   "source": [
    "# 리스트를 Tensor로 변환\n",
    "train_images = torch.stack(train_images)"
   ]
  },
  {
   "cell_type": "code",
   "execution_count": 70,
   "metadata": {},
   "outputs": [],
   "source": [
    "from sklearn.model_selection import train_test_split\n",
    "\n",
    "# 학습 및 검증 데이터 분할\n",
    "X_train, X_val, y_train, y_val = train_test_split(train_images, labels, test_size=0.2, random_state=42)"
   ]
  },
  {
   "cell_type": "code",
   "execution_count": 82,
   "metadata": {},
   "outputs": [
    {
     "name": "stderr",
     "output_type": "stream",
     "text": [
      "C:\\Users\\82106\\AppData\\Local\\Temp\\ipykernel_31320\\865082509.py:5: UserWarning: To copy construct from a tensor, it is recommended to use sourceTensor.clone().detach() or sourceTensor.clone().detach().requires_grad_(True), rather than torch.tensor(sourceTensor).\n",
      "  y_train = torch.tensor(y_train, dtype=torch.float32)\n",
      "C:\\Users\\82106\\AppData\\Local\\Temp\\ipykernel_31320\\865082509.py:6: UserWarning: To copy construct from a tensor, it is recommended to use sourceTensor.clone().detach() or sourceTensor.clone().detach().requires_grad_(True), rather than torch.tensor(sourceTensor).\n",
      "  y_val = torch.tensor(y_val, dtype=torch.float32)\n"
     ]
    }
   ],
   "source": [
    "# 리스트를 Tensor로 변환\n",
    "X_train = torch.stack(list(X_train))\n",
    "X_val = torch.stack(list(X_val))\n",
    "\n",
    "y_train = torch.tensor(y_train, dtype=torch.float32)\n",
    "y_val = torch.tensor(y_val, dtype=torch.float32)\n",
    "\n",
    "# DataLoader 생성\n",
    "train_dataset = torch.utils.data.TensorDataset(X_train, y_train)\n",
    "val_dataset = torch.utils.data.TensorDataset(X_val, y_val)\n",
    "train_loader = torch.utils.data.DataLoader(\n",
    "    train_dataset,\n",
    "    batch_size=train_config.batch_size,\n",
    "    shuffle=True,\n",
    "    num_workers=train_config.n_threads  # 데이터 로딩 속도 향상\n",
    ")\n",
    "val_loader = torch.utils.data.DataLoader(\n",
    "    val_dataset,\n",
    "    batch_size=valid_config.batch_size,\n",
    "    shuffle=False,\n",
    "    num_workers=valid_config.n_threads\n",
    ")"
   ]
  },
  {
   "cell_type": "markdown",
   "metadata": {},
   "source": [
    "### CNN모델링 유전자 & 발현 정보 학습 레이어 포함"
   ]
  },
  {
   "cell_type": "code",
   "execution_count": null,
   "metadata": {},
   "outputs": [],
   "source": [
    "import torch\n",
    "import torch.nn as nn\n",
    "import torchvision.models as models\n",
    "import torchvision.transforms as transforms\n",
    "\n",
    "# CNN기반 경량화된 모델 사용 (MobileNetV2)\n",
    "cnn_model = models.mobilenet_v2(pretrained=True)\n",
    "\n",
    "# 사전 학습된 모델의 파라미터를 동결\n",
    "for param in cnn_model.parameters():\n",
    "    param.requires_grad = False\n",
    "\n",
    "# 마지막 분류 계층 수정\n",
    "num_genes = labels.shape[1]\n",
    "cnn_model.classifier = nn.Sequential(\n",
    "    nn.Dropout(0.2),\n",
    "\n",
    "    #유전자 발현 정보 학습 레이어\n",
    "    nn.Linear(cnn_model.last_channel, num_genes)\n",
    ")\n",
    "\n",
    "model = cnn_model"
   ]
  },
  {
   "cell_type": "markdown",
   "metadata": {},
   "source": [
    "### 하이퍼파라미터 설정"
   ]
  },
  {
   "cell_type": "code",
   "execution_count": 85,
   "metadata": {},
   "outputs": [
    {
     "name": "stderr",
     "output_type": "stream",
     "text": [
      "c:\\Users\\82106\\AppData\\Local\\Programs\\Python\\Python310\\lib\\site-packages\\torch\\cuda\\amp\\grad_scaler.py:126: UserWarning: torch.cuda.amp.GradScaler is enabled, but CUDA is not available.  Disabling.\n",
      "  warnings.warn(\n"
     ]
    }
   ],
   "source": [
    "# 손실 함수 및 옵티마이저 설정\n",
    "criterion = nn.MSELoss()\n",
    "optimizer = torch.optim.Adam(model.classifier.parameters(), lr=1e-4)  # 동결되지 않은 파라미터만 전달\n",
    "\n",
    "# GPU 설정\n",
    "device = torch.device('cuda' if torch.cuda.is_available() else 'cpu')\n",
    "model.to(device)\n",
    "\n",
    "# Mixed Precision Training 설정\n",
    "scaler = torch.cuda.amp.GradScaler()\n"
   ]
  },
  {
   "cell_type": "markdown",
   "metadata": {},
   "source": [
    "### 훈련 루프 정의"
   ]
  },
  {
   "cell_type": "code",
   "execution_count": null,
   "metadata": {},
   "outputs": [],
   "source": [
    "# 훈련 루프 정의\n",
    "def train_model(model, criterion, optimizer, train_loader, val_loader, num_epochs=50):\n",
    "    best_val_loss = float('inf')\n",
    "    patience = 3  # 조기 종료 기준\n",
    "    counter = 0\n",
    "    train_losses = []\n",
    "    val_losses = []\n",
    "\n",
    "    for epoch in range(num_epochs):\n",
    "        model.train()\n",
    "        running_loss = 0.0\n",
    "        for inputs, labels in tqdm(train_loader):\n",
    "            inputs, labels = inputs.to(device), labels.to(device)\n",
    "            optimizer.zero_grad()\n",
    "            with torch.cuda.amp.autocast():  # Mixed Precision Training\n",
    "                outputs = model(inputs)\n",
    "                loss = criterion(outputs, labels)\n",
    "            scaler.scale(loss).backward()\n",
    "            scaler.step(optimizer)\n",
    "            scaler.update()\n",
    "            running_loss += loss.item() * inputs.size(0)\n",
    "        epoch_loss = running_loss / len(train_loader.dataset)\n",
    "        train_losses.append(epoch_loss)\n",
    "\n",
    "        # 검증 손실 계산\n",
    "        model.eval()\n",
    "        val_loss = 0.0\n",
    "        with torch.no_grad():\n",
    "            for inputs, labels in val_loader:\n",
    "                inputs, labels = inputs.to(device), labels.to(device)\n",
    "                with torch.cuda.amp.autocast():  # Mixed Precision Training\n",
    "                    outputs = model(inputs)\n",
    "                    loss = criterion(outputs, labels)\n",
    "                val_loss += loss.item() * inputs.size(0)\n",
    "        val_loss /= len(val_loader.dataset)\n",
    "        val_losses.append(val_loss)\n",
    "\n",
    "        print(f'Epoch {epoch+1}/{num_epochs}, Loss: {epoch_loss:.4f}, Val Loss: {val_loss:.4f}')\n",
    "\n",
    "        # 모델 저장 및 조기 종료 체크\n",
    "        if val_loss < best_val_loss:\n",
    "            best_val_loss = val_loss\n",
    "            counter = 0\n",
    "            torch.save(model.state_dict(), 'best_model.pth')\n",
    "            print('Model saved.')\n",
    "        else:\n",
    "            counter += 1\n",
    "            if counter >= patience:\n",
    "                print('Early stopping.')\n",
    "                break"
   ]
  },
  {
   "cell_type": "markdown",
   "metadata": {},
   "source": [
    "#### 훈련루프 정의\n",
    "\n",
    "1. **초기 설정**\n",
    "   - 최적 검증 손실 초기화\n",
    "   - 조기 종료를 위한 patience 설정 (3회)\n",
    "   - 손실을 기록할 리스트 초기화\n",
    "\n",
    "2. **훈련 단계**\n",
    "   - 모델을 학습 모드로 전환\n",
    "   - 각 배치에서 Mixed Precision Training을 통해 메모리 절약하며 손실 계산 및 역전파 수행\n",
    "   - 모든 배치의 손실을 누적하여 에포크의 평균 훈련 손실 기록\n",
    "\n",
    "3. **검증 단계**\n",
    "   - 모델을 검증 모드로 전환하여 드롭아웃 비활성화\n",
    "   - 손실을 계산하고 평균 검증 손실 기록\n",
    "\n",
    "4. **모델 저장 및 조기 종료**\n",
    "   - 검증 손실이 개선되면 최적 모델 저장\n",
    "   - 검증 손실 개선이 없을 경우 counter 증가\n",
    "   - counter가 patience를 초과하면 조기 종료로 학습 중단\n"
   ]
  },
  {
   "cell_type": "markdown",
   "metadata": {},
   "source": [
    "### 모델 훈련"
   ]
  },
  {
   "cell_type": "code",
   "execution_count": 87,
   "metadata": {},
   "outputs": [
    {
     "name": "stderr",
     "output_type": "stream",
     "text": [
      "  0%|          | 0/467 [00:00<?, ?it/s]c:\\Users\\82106\\AppData\\Local\\Programs\\Python\\Python310\\lib\\site-packages\\torch\\amp\\autocast_mode.py:250: UserWarning: User provided device_type of 'cuda', but CUDA is not available. Disabling\n",
      "  warnings.warn(\n",
      "100%|██████████| 467/467 [02:28<00:00,  3.15it/s]\n"
     ]
    },
    {
     "name": "stdout",
     "output_type": "stream",
     "text": [
      "Epoch 1/50, Loss: 0.1056, Val Loss: 0.0656\n",
      "Model saved.\n"
     ]
    },
    {
     "name": "stderr",
     "output_type": "stream",
     "text": [
      "100%|██████████| 467/467 [02:34<00:00,  3.02it/s]\n"
     ]
    },
    {
     "name": "stdout",
     "output_type": "stream",
     "text": [
      "Epoch 2/50, Loss: 0.0823, Val Loss: 0.0589\n",
      "Model saved.\n"
     ]
    },
    {
     "name": "stderr",
     "output_type": "stream",
     "text": [
      "100%|██████████| 467/467 [02:26<00:00,  3.19it/s]\n"
     ]
    },
    {
     "name": "stdout",
     "output_type": "stream",
     "text": [
      "Epoch 3/50, Loss: 0.0731, Val Loss: 0.0555\n",
      "Model saved.\n"
     ]
    },
    {
     "name": "stderr",
     "output_type": "stream",
     "text": [
      "100%|██████████| 467/467 [02:33<00:00,  3.04it/s]\n"
     ]
    },
    {
     "name": "stdout",
     "output_type": "stream",
     "text": [
      "Epoch 4/50, Loss: 0.0669, Val Loss: 0.0536\n",
      "Model saved.\n"
     ]
    },
    {
     "name": "stderr",
     "output_type": "stream",
     "text": [
      "100%|██████████| 467/467 [02:35<00:00,  3.00it/s]\n"
     ]
    },
    {
     "name": "stdout",
     "output_type": "stream",
     "text": [
      "Epoch 5/50, Loss: 0.0625, Val Loss: 0.0522\n",
      "Model saved.\n"
     ]
    },
    {
     "name": "stderr",
     "output_type": "stream",
     "text": [
      "100%|██████████| 467/467 [02:27<00:00,  3.16it/s]\n"
     ]
    },
    {
     "name": "stdout",
     "output_type": "stream",
     "text": [
      "Epoch 6/50, Loss: 0.0591, Val Loss: 0.0517\n",
      "Model saved.\n"
     ]
    },
    {
     "name": "stderr",
     "output_type": "stream",
     "text": [
      "100%|██████████| 467/467 [02:21<00:00,  3.30it/s]\n"
     ]
    },
    {
     "name": "stdout",
     "output_type": "stream",
     "text": [
      "Epoch 7/50, Loss: 0.0566, Val Loss: 0.0507\n",
      "Model saved.\n"
     ]
    },
    {
     "name": "stderr",
     "output_type": "stream",
     "text": [
      "100%|██████████| 467/467 [02:28<00:00,  3.14it/s]\n"
     ]
    },
    {
     "name": "stdout",
     "output_type": "stream",
     "text": [
      "Epoch 8/50, Loss: 0.0546, Val Loss: 0.0502\n",
      "Model saved.\n"
     ]
    },
    {
     "name": "stderr",
     "output_type": "stream",
     "text": [
      "100%|██████████| 467/467 [02:29<00:00,  3.13it/s]\n"
     ]
    },
    {
     "name": "stdout",
     "output_type": "stream",
     "text": [
      "Epoch 9/50, Loss: 0.0530, Val Loss: 0.0500\n",
      "Model saved.\n"
     ]
    },
    {
     "name": "stderr",
     "output_type": "stream",
     "text": [
      "100%|██████████| 467/467 [02:29<00:00,  3.12it/s]\n"
     ]
    },
    {
     "name": "stdout",
     "output_type": "stream",
     "text": [
      "Epoch 10/50, Loss: 0.0518, Val Loss: 0.0500\n",
      "Model saved.\n"
     ]
    },
    {
     "name": "stderr",
     "output_type": "stream",
     "text": [
      "100%|██████████| 467/467 [02:29<00:00,  3.12it/s]\n"
     ]
    },
    {
     "name": "stdout",
     "output_type": "stream",
     "text": [
      "Epoch 11/50, Loss: 0.0509, Val Loss: 0.0496\n",
      "Model saved.\n"
     ]
    },
    {
     "name": "stderr",
     "output_type": "stream",
     "text": [
      "100%|██████████| 467/467 [02:29<00:00,  3.12it/s]\n"
     ]
    },
    {
     "name": "stdout",
     "output_type": "stream",
     "text": [
      "Epoch 12/50, Loss: 0.0502, Val Loss: 0.0496\n",
      "Model saved.\n"
     ]
    },
    {
     "name": "stderr",
     "output_type": "stream",
     "text": [
      "100%|██████████| 467/467 [02:28<00:00,  3.14it/s]\n"
     ]
    },
    {
     "name": "stdout",
     "output_type": "stream",
     "text": [
      "Epoch 13/50, Loss: 0.0498, Val Loss: 0.0497\n"
     ]
    },
    {
     "name": "stderr",
     "output_type": "stream",
     "text": [
      "100%|██████████| 467/467 [02:28<00:00,  3.14it/s]\n"
     ]
    },
    {
     "name": "stdout",
     "output_type": "stream",
     "text": [
      "Epoch 14/50, Loss: 0.0493, Val Loss: 0.0495\n",
      "Model saved.\n"
     ]
    },
    {
     "name": "stderr",
     "output_type": "stream",
     "text": [
      "100%|██████████| 467/467 [02:28<00:00,  3.14it/s]\n"
     ]
    },
    {
     "name": "stdout",
     "output_type": "stream",
     "text": [
      "Epoch 15/50, Loss: 0.0490, Val Loss: 0.0494\n",
      "Model saved.\n"
     ]
    },
    {
     "name": "stderr",
     "output_type": "stream",
     "text": [
      "100%|██████████| 467/467 [02:29<00:00,  3.12it/s]\n"
     ]
    },
    {
     "name": "stdout",
     "output_type": "stream",
     "text": [
      "Epoch 16/50, Loss: 0.0487, Val Loss: 0.0495\n"
     ]
    },
    {
     "name": "stderr",
     "output_type": "stream",
     "text": [
      "100%|██████████| 467/467 [02:30<00:00,  3.10it/s]\n"
     ]
    },
    {
     "name": "stdout",
     "output_type": "stream",
     "text": [
      "Epoch 17/50, Loss: 0.0484, Val Loss: 0.0493\n",
      "Model saved.\n"
     ]
    },
    {
     "name": "stderr",
     "output_type": "stream",
     "text": [
      "100%|██████████| 467/467 [02:30<00:00,  3.11it/s]\n"
     ]
    },
    {
     "name": "stdout",
     "output_type": "stream",
     "text": [
      "Epoch 18/50, Loss: 0.0483, Val Loss: 0.0493\n"
     ]
    },
    {
     "name": "stderr",
     "output_type": "stream",
     "text": [
      "100%|██████████| 467/467 [02:28<00:00,  3.14it/s]\n"
     ]
    },
    {
     "name": "stdout",
     "output_type": "stream",
     "text": [
      "Epoch 19/50, Loss: 0.0481, Val Loss: 0.0492\n",
      "Model saved.\n"
     ]
    },
    {
     "name": "stderr",
     "output_type": "stream",
     "text": [
      "100%|██████████| 467/467 [02:30<00:00,  3.11it/s]\n"
     ]
    },
    {
     "name": "stdout",
     "output_type": "stream",
     "text": [
      "Epoch 20/50, Loss: 0.0480, Val Loss: 0.0493\n"
     ]
    },
    {
     "name": "stderr",
     "output_type": "stream",
     "text": [
      "100%|██████████| 467/467 [02:28<00:00,  3.16it/s]\n"
     ]
    },
    {
     "name": "stdout",
     "output_type": "stream",
     "text": [
      "Epoch 21/50, Loss: 0.0479, Val Loss: 0.0492\n"
     ]
    },
    {
     "name": "stderr",
     "output_type": "stream",
     "text": [
      "100%|██████████| 467/467 [02:28<00:00,  3.14it/s]\n"
     ]
    },
    {
     "name": "stdout",
     "output_type": "stream",
     "text": [
      "Epoch 22/50, Loss: 0.0478, Val Loss: 0.0490\n",
      "Model saved.\n"
     ]
    },
    {
     "name": "stderr",
     "output_type": "stream",
     "text": [
      "100%|██████████| 467/467 [02:28<00:00,  3.15it/s]\n"
     ]
    },
    {
     "name": "stdout",
     "output_type": "stream",
     "text": [
      "Epoch 23/50, Loss: 0.0477, Val Loss: 0.0491\n"
     ]
    },
    {
     "name": "stderr",
     "output_type": "stream",
     "text": [
      "100%|██████████| 467/467 [02:28<00:00,  3.14it/s]\n"
     ]
    },
    {
     "name": "stdout",
     "output_type": "stream",
     "text": [
      "Epoch 24/50, Loss: 0.0476, Val Loss: 0.0492\n"
     ]
    },
    {
     "name": "stderr",
     "output_type": "stream",
     "text": [
      "100%|██████████| 467/467 [02:27<00:00,  3.16it/s]\n"
     ]
    },
    {
     "name": "stdout",
     "output_type": "stream",
     "text": [
      "Epoch 25/50, Loss: 0.0476, Val Loss: 0.0492\n",
      "Early stopping.\n"
     ]
    }
   ],
   "source": [
    "# 모델 훈련\n",
    "train_model(model, criterion, optimizer, train_loader, val_loader)"
   ]
  },
  {
   "cell_type": "code",
   "execution_count": 117,
   "metadata": {},
   "outputs": [],
   "source": [
    "import matplotlib.pyplot as plt\n",
    "from sklearn.metrics import mean_squared_error, r2_score\n",
    "\n",
    "# 모델 성능 평가\n",
    "def evaluate_model(model, val_loader):\n",
    "    model.eval()\n",
    "    predictions = []\n",
    "    actuals = []\n",
    "    with torch.no_grad():\n",
    "        for inputs, labels in val_loader:\n",
    "            inputs, labels = inputs.to(device), labels.to(device)\n",
    "            outputs = model(inputs)\n",
    "            predictions.append(outputs.cpu().numpy())\n",
    "            actuals.append(labels.cpu().numpy())\n",
    "    predictions = np.concatenate(predictions, axis=0)\n",
    "    actuals = np.concatenate(actuals, axis=0)\n",
    "    \n",
    "    # 성능 지표 계산\n",
    "    mse = mean_squared_error(actuals, predictions)\n",
    "    r2 = r2_score(actuals, predictions)\n",
    "    print(f\"Mean Squared Error (MSE): {mse:.4f}\")\n",
    "    print(f\"R-squared (R2): {r2:.4f}\")\n",
    "\n",
    "    # 예측과 실제 값을 시각화\n",
    "    plt.figure(figsize=(10, 5))\n",
    "    plt.scatter(actuals, predictions, alpha=0.5)\n",
    "    plt.xlabel('Actual Values')\n",
    "    plt.ylabel('Predicted Values')\n",
    "    plt.title('Actual vs Predicted Values')\n",
    "    plt.show()"
   ]
  },
  {
   "cell_type": "code",
   "execution_count": 118,
   "metadata": {},
   "outputs": [
    {
     "name": "stdout",
     "output_type": "stream",
     "text": [
      "Mean Squared Error (MSE): 0.0492\n",
      "R-squared (R2): -1280.2196\n"
     ]
    },
    {
     "data": {
      "image/png": "[encoded data removed]",
      "text/plain": [
       "<Figure size 1000x500 with 1 Axes>"
      ]
     },
     "metadata": {},
     "output_type": "display_data"
    }
   ],
   "source": [
    "# 모델 성능 평가 호출\n",
    "evaluate_model(model, val_loader)"
   ]
  },
  {
   "cell_type": "markdown",
   "metadata": {},
   "source": [
    "- **분포 모양**: 예측값이 실제값 근처에 있지만, 데이터가 흩어져 있어 상관관계가 약함\n",
    "- **오차 영역**: 고값 영역에서 예측 정확도가 낮고 분산이 큼\n",
    "- **선형 관계 부족**: 45도 대각선에서 벗어난 예측이 많아 모델 편향 가능성"
   ]
  },
  {
   "cell_type": "markdown",
   "metadata": {},
   "source": [
    "# 테스트 데이터 추론"
   ]
  },
  {
   "cell_type": "code",
   "execution_count": 92,
   "metadata": {},
   "outputs": [],
   "source": [
    "# 테스트 이미지 경로 생성\n",
    "test_image_paths = [\n",
    "    r'C:\\Users\\82106\\Desktop\\데이콘\\이미지 학습\\데이터\\open\\test\\TEST_{:04}.png'.format(i)\n",
    "    for i in range(2277)\n",
    "]"
   ]
  },
  {
   "cell_type": "markdown",
   "metadata": {},
   "source": [
    "### 테스트 데이터 전처리"
   ]
  },
  {
   "cell_type": "code",
   "execution_count": null,
   "metadata": {},
   "outputs": [
    {
     "name": "stderr",
     "output_type": "stream",
     "text": [
      "100%|██████████| 2277/2277 [00:42<00:00, 53.22it/s]\n"
     ]
    }
   ],
   "source": [
    "# 테스트 데이터 전처리 및 DataLoader\n",
    "test_images = []\n",
    "for path in tqdm(test_image_paths):\n",
    "    image_tensor = load_and_preprocess_image(path)\n",
    "    if image_tensor is not None:\n",
    "        test_images.append(image_tensor)\n",
    "\n",
    "test_images = torch.stack(test_images)\n",
    "\n",
    "test_dataset = torch.utils.data.TensorDataset(test_images)\n",
    "test_loader = torch.utils.data.DataLoader(test_dataset, batch_size=valid_config.batch_size, shuffle=False)"
   ]
  },
  {
   "cell_type": "markdown",
   "metadata": {},
   "source": [
    "### 추론 함수 정의"
   ]
  },
  {
   "cell_type": "code",
   "execution_count": 94,
   "metadata": {},
   "outputs": [],
   "source": [
    "# 테스트 데이터에 대한 유전자 발현 정보 추론 함수\n",
    "def predict_gene_expression(model, test_loader):\n",
    "    model.eval()\n",
    "    predictions = []\n",
    "    with torch.no_grad():\n",
    "        for inputs in tqdm(test_loader):\n",
    "            inputs = inputs[0].to(device)\n",
    "            outputs = model(inputs)\n",
    "            predictions.append(outputs.cpu().numpy())\n",
    "    predictions = np.concatenate(predictions, axis=0)\n",
    "    return predictions"
   ]
  },
  {
   "cell_type": "markdown",
   "metadata": {},
   "source": [
    "### 추론"
   ]
  },
  {
   "cell_type": "code",
   "execution_count": 95,
   "metadata": {},
   "outputs": [
    {
     "name": "stderr",
     "output_type": "stream",
     "text": [
      "100%|██████████| 190/190 [00:43<00:00,  4.33it/s]\n"
     ]
    }
   ],
   "source": [
    "# 테스트 데이터에 대한 예측 수행\n",
    "test_predictions = predict_gene_expression(model, test_loader)"
   ]
  },
  {
   "cell_type": "markdown",
   "metadata": {},
   "source": [
    "### 결과를 데이터 프레임으로 저장"
   ]
  },
  {
   "cell_type": "code",
   "execution_count": 97,
   "metadata": {},
   "outputs": [],
   "source": [
    "# 결과를 데이터프레임으로 저장\n",
    "sample_submission_path = r'C:\\Users\\82106\\Desktop\\데이콘\\이미지 학습\\데이터\\open\\sample_submission.csv'\n",
    "sample_submission = pd.read_csv(sample_submission_path)"
   ]
  },
  {
   "cell_type": "code",
   "execution_count": 98,
   "metadata": {},
   "outputs": [],
   "source": [
    "# 열 이름 리스트 추출\n",
    "submission_columns = sample_submission.columns.tolist()"
   ]
  },
  {
   "cell_type": "code",
   "execution_count": 105,
   "metadata": {},
   "outputs": [],
   "source": [
    "#  예측 결과를 DataFrame으로 생성\n",
    "pred_df = pd.DataFrame(test_predictions, columns=submission_columns[1:])"
   ]
  },
  {
   "cell_type": "code",
   "execution_count": 107,
   "metadata": {},
   "outputs": [],
   "source": [
    "test_image_ids = []\n",
    "\n",
    "for image_path in test_image_paths:\n",
    "    image_id = os.path.basename(image_path).split('.')[0]\n",
    "    test_image_ids.append(image_id)"
   ]
  },
  {
   "cell_type": "code",
   "execution_count": 108,
   "metadata": {},
   "outputs": [],
   "source": [
    "# 'ID' 열 추가\n",
    "pred_df.insert(0, 'ID', test_image_ids)"
   ]
  },
  {
   "cell_type": "code",
   "execution_count": 109,
   "metadata": {},
   "outputs": [],
   "source": [
    "# 열 순서 맞추기 (sample_submission.csv와 동일하게)\n",
    "pred_df = pred_df[sample_submission.columns]"
   ]
  },
  {
   "cell_type": "code",
   "execution_count": 110,
   "metadata": {},
   "outputs": [
    {
     "data": {
      "text/html": [
       "<div>\n",
       "<style scoped>\n",
       "    .dataframe tbody tr th:only-of-type {\n",
       "        vertical-align: middle;\n",
       "    }\n",
       "\n",
       "    .dataframe tbody tr th {\n",
       "        vertical-align: top;\n",
       "    }\n",
       "\n",
       "    .dataframe thead th {\n",
       "        text-align: right;\n",
       "    }\n",
       "</style>\n",
       "<table border=\"1\" class=\"dataframe\">\n",
       "  <thead>\n",
       "    <tr style=\"text-align: right;\">\n",
       "      <th></th>\n",
       "      <th>ID</th>\n",
       "      <th>AL645608.7</th>\n",
       "      <th>HES4</th>\n",
       "      <th>TNFRSF18</th>\n",
       "      <th>TNFRSF4</th>\n",
       "      <th>SDF4</th>\n",
       "      <th>ACAP3</th>\n",
       "      <th>INTS11</th>\n",
       "      <th>MXRA8</th>\n",
       "      <th>AL391244.2</th>\n",
       "      <th>...</th>\n",
       "      <th>MT-ATP8</th>\n",
       "      <th>MT-ATP6</th>\n",
       "      <th>MT-CO3</th>\n",
       "      <th>MT-ND3</th>\n",
       "      <th>MT-ND4L</th>\n",
       "      <th>MT-ND4</th>\n",
       "      <th>MT-ND5</th>\n",
       "      <th>MT-CYB</th>\n",
       "      <th>BX004987.1</th>\n",
       "      <th>AL592183.1</th>\n",
       "    </tr>\n",
       "  </thead>\n",
       "  <tbody>\n",
       "    <tr>\n",
       "      <th>0</th>\n",
       "      <td>TEST_0000</td>\n",
       "      <td>0.009963</td>\n",
       "      <td>0.122968</td>\n",
       "      <td>0.017726</td>\n",
       "      <td>-0.010184</td>\n",
       "      <td>0.659493</td>\n",
       "      <td>0.082992</td>\n",
       "      <td>0.097268</td>\n",
       "      <td>0.034879</td>\n",
       "      <td>0.003540</td>\n",
       "      <td>...</td>\n",
       "      <td>0.235170</td>\n",
       "      <td>3.862041</td>\n",
       "      <td>3.982737</td>\n",
       "      <td>3.181158</td>\n",
       "      <td>1.359486</td>\n",
       "      <td>3.760260</td>\n",
       "      <td>1.580052</td>\n",
       "      <td>3.442345</td>\n",
       "      <td>0.027794</td>\n",
       "      <td>-0.008535</td>\n",
       "    </tr>\n",
       "    <tr>\n",
       "      <th>1</th>\n",
       "      <td>TEST_0001</td>\n",
       "      <td>0.011764</td>\n",
       "      <td>0.043183</td>\n",
       "      <td>0.009924</td>\n",
       "      <td>0.008895</td>\n",
       "      <td>0.644684</td>\n",
       "      <td>0.118878</td>\n",
       "      <td>0.240284</td>\n",
       "      <td>-0.017169</td>\n",
       "      <td>-0.018786</td>\n",
       "      <td>...</td>\n",
       "      <td>0.456486</td>\n",
       "      <td>3.082278</td>\n",
       "      <td>3.297927</td>\n",
       "      <td>2.582980</td>\n",
       "      <td>0.991278</td>\n",
       "      <td>3.135633</td>\n",
       "      <td>1.398719</td>\n",
       "      <td>2.869811</td>\n",
       "      <td>0.005809</td>\n",
       "      <td>0.022421</td>\n",
       "    </tr>\n",
       "    <tr>\n",
       "      <th>2</th>\n",
       "      <td>TEST_0002</td>\n",
       "      <td>-0.018728</td>\n",
       "      <td>0.067654</td>\n",
       "      <td>0.013112</td>\n",
       "      <td>0.014378</td>\n",
       "      <td>0.684463</td>\n",
       "      <td>0.182811</td>\n",
       "      <td>0.309224</td>\n",
       "      <td>0.064749</td>\n",
       "      <td>0.004519</td>\n",
       "      <td>...</td>\n",
       "      <td>0.241781</td>\n",
       "      <td>3.536777</td>\n",
       "      <td>3.723589</td>\n",
       "      <td>2.871158</td>\n",
       "      <td>1.050842</td>\n",
       "      <td>3.554796</td>\n",
       "      <td>1.496975</td>\n",
       "      <td>3.251728</td>\n",
       "      <td>0.008632</td>\n",
       "      <td>0.023132</td>\n",
       "    </tr>\n",
       "    <tr>\n",
       "      <th>3</th>\n",
       "      <td>TEST_0003</td>\n",
       "      <td>-0.000110</td>\n",
       "      <td>0.048685</td>\n",
       "      <td>0.003403</td>\n",
       "      <td>0.009400</td>\n",
       "      <td>0.611910</td>\n",
       "      <td>0.107072</td>\n",
       "      <td>0.207002</td>\n",
       "      <td>0.001469</td>\n",
       "      <td>-0.001785</td>\n",
       "      <td>...</td>\n",
       "      <td>0.176905</td>\n",
       "      <td>2.837038</td>\n",
       "      <td>3.019141</td>\n",
       "      <td>2.288028</td>\n",
       "      <td>0.677141</td>\n",
       "      <td>2.832756</td>\n",
       "      <td>1.140466</td>\n",
       "      <td>2.583953</td>\n",
       "      <td>0.003331</td>\n",
       "      <td>-0.000910</td>\n",
       "    </tr>\n",
       "    <tr>\n",
       "      <th>4</th>\n",
       "      <td>TEST_0004</td>\n",
       "      <td>0.001805</td>\n",
       "      <td>0.068487</td>\n",
       "      <td>-0.000615</td>\n",
       "      <td>-0.007040</td>\n",
       "      <td>0.720576</td>\n",
       "      <td>0.020694</td>\n",
       "      <td>0.137148</td>\n",
       "      <td>-0.026325</td>\n",
       "      <td>-0.020580</td>\n",
       "      <td>...</td>\n",
       "      <td>0.362357</td>\n",
       "      <td>3.555144</td>\n",
       "      <td>3.719625</td>\n",
       "      <td>3.186304</td>\n",
       "      <td>1.284143</td>\n",
       "      <td>3.463475</td>\n",
       "      <td>1.695590</td>\n",
       "      <td>3.230787</td>\n",
       "      <td>0.029154</td>\n",
       "      <td>0.009648</td>\n",
       "    </tr>\n",
       "    <tr>\n",
       "      <th>...</th>\n",
       "      <td>...</td>\n",
       "      <td>...</td>\n",
       "      <td>...</td>\n",
       "      <td>...</td>\n",
       "      <td>...</td>\n",
       "      <td>...</td>\n",
       "      <td>...</td>\n",
       "      <td>...</td>\n",
       "      <td>...</td>\n",
       "      <td>...</td>\n",
       "      <td>...</td>\n",
       "      <td>...</td>\n",
       "      <td>...</td>\n",
       "      <td>...</td>\n",
       "      <td>...</td>\n",
       "      <td>...</td>\n",
       "      <td>...</td>\n",
       "      <td>...</td>\n",
       "      <td>...</td>\n",
       "      <td>...</td>\n",
       "      <td>...</td>\n",
       "    </tr>\n",
       "    <tr>\n",
       "      <th>2272</th>\n",
       "      <td>TEST_2272</td>\n",
       "      <td>-0.012382</td>\n",
       "      <td>0.065804</td>\n",
       "      <td>-0.008330</td>\n",
       "      <td>-0.000790</td>\n",
       "      <td>0.801593</td>\n",
       "      <td>0.014893</td>\n",
       "      <td>0.328402</td>\n",
       "      <td>-0.018961</td>\n",
       "      <td>0.014256</td>\n",
       "      <td>...</td>\n",
       "      <td>0.347511</td>\n",
       "      <td>3.373519</td>\n",
       "      <td>3.508855</td>\n",
       "      <td>2.937503</td>\n",
       "      <td>1.068504</td>\n",
       "      <td>3.280492</td>\n",
       "      <td>1.330769</td>\n",
       "      <td>3.032022</td>\n",
       "      <td>0.015931</td>\n",
       "      <td>0.020866</td>\n",
       "    </tr>\n",
       "    <tr>\n",
       "      <th>2273</th>\n",
       "      <td>TEST_2273</td>\n",
       "      <td>0.004497</td>\n",
       "      <td>0.029301</td>\n",
       "      <td>0.015061</td>\n",
       "      <td>0.001855</td>\n",
       "      <td>0.642954</td>\n",
       "      <td>0.167230</td>\n",
       "      <td>0.123594</td>\n",
       "      <td>-0.066736</td>\n",
       "      <td>-0.020474</td>\n",
       "      <td>...</td>\n",
       "      <td>0.736833</td>\n",
       "      <td>3.992276</td>\n",
       "      <td>4.074471</td>\n",
       "      <td>3.442501</td>\n",
       "      <td>1.737662</td>\n",
       "      <td>3.995407</td>\n",
       "      <td>2.129244</td>\n",
       "      <td>3.582622</td>\n",
       "      <td>0.008370</td>\n",
       "      <td>0.016813</td>\n",
       "    </tr>\n",
       "    <tr>\n",
       "      <th>2274</th>\n",
       "      <td>TEST_2274</td>\n",
       "      <td>-0.010117</td>\n",
       "      <td>0.060834</td>\n",
       "      <td>0.004381</td>\n",
       "      <td>0.009756</td>\n",
       "      <td>0.654144</td>\n",
       "      <td>0.137568</td>\n",
       "      <td>0.178514</td>\n",
       "      <td>0.011214</td>\n",
       "      <td>-0.003311</td>\n",
       "      <td>...</td>\n",
       "      <td>0.313789</td>\n",
       "      <td>3.138010</td>\n",
       "      <td>3.208245</td>\n",
       "      <td>2.579027</td>\n",
       "      <td>0.846394</td>\n",
       "      <td>3.059098</td>\n",
       "      <td>1.266807</td>\n",
       "      <td>2.781508</td>\n",
       "      <td>0.005935</td>\n",
       "      <td>0.005726</td>\n",
       "    </tr>\n",
       "    <tr>\n",
       "      <th>2275</th>\n",
       "      <td>TEST_2275</td>\n",
       "      <td>0.002914</td>\n",
       "      <td>0.038057</td>\n",
       "      <td>0.000557</td>\n",
       "      <td>0.001432</td>\n",
       "      <td>0.647429</td>\n",
       "      <td>0.088411</td>\n",
       "      <td>0.144610</td>\n",
       "      <td>0.030398</td>\n",
       "      <td>-0.003570</td>\n",
       "      <td>...</td>\n",
       "      <td>0.117869</td>\n",
       "      <td>3.018812</td>\n",
       "      <td>3.087460</td>\n",
       "      <td>2.448882</td>\n",
       "      <td>0.642591</td>\n",
       "      <td>2.924597</td>\n",
       "      <td>0.926003</td>\n",
       "      <td>2.675950</td>\n",
       "      <td>0.007352</td>\n",
       "      <td>0.002037</td>\n",
       "    </tr>\n",
       "    <tr>\n",
       "      <th>2276</th>\n",
       "      <td>TEST_2276</td>\n",
       "      <td>0.007375</td>\n",
       "      <td>0.138987</td>\n",
       "      <td>0.009204</td>\n",
       "      <td>-0.009223</td>\n",
       "      <td>0.662440</td>\n",
       "      <td>0.155915</td>\n",
       "      <td>0.291150</td>\n",
       "      <td>-0.059186</td>\n",
       "      <td>0.021048</td>\n",
       "      <td>...</td>\n",
       "      <td>0.397660</td>\n",
       "      <td>3.685444</td>\n",
       "      <td>3.702443</td>\n",
       "      <td>3.106719</td>\n",
       "      <td>1.029701</td>\n",
       "      <td>3.472698</td>\n",
       "      <td>1.530536</td>\n",
       "      <td>3.264972</td>\n",
       "      <td>0.007928</td>\n",
       "      <td>0.015556</td>\n",
       "    </tr>\n",
       "  </tbody>\n",
       "</table>\n",
       "<p>2277 rows × 3468 columns</p>\n",
       "</div>"
      ],
      "text/plain": [
       "             ID  AL645608.7      HES4  TNFRSF18   TNFRSF4      SDF4     ACAP3  \\\n",
       "0     TEST_0000    0.009963  0.122968  0.017726 -0.010184  0.659493  0.082992   \n",
       "1     TEST_0001    0.011764  0.043183  0.009924  0.008895  0.644684  0.118878   \n",
       "2     TEST_0002   -0.018728  0.067654  0.013112  0.014378  0.684463  0.182811   \n",
       "3     TEST_0003   -0.000110  0.048685  0.003403  0.009400  0.611910  0.107072   \n",
       "4     TEST_0004    0.001805  0.068487 -0.000615 -0.007040  0.720576  0.020694   \n",
       "...         ...         ...       ...       ...       ...       ...       ...   \n",
       "2272  TEST_2272   -0.012382  0.065804 -0.008330 -0.000790  0.801593  0.014893   \n",
       "2273  TEST_2273    0.004497  0.029301  0.015061  0.001855  0.642954  0.167230   \n",
       "2274  TEST_2274   -0.010117  0.060834  0.004381  0.009756  0.654144  0.137568   \n",
       "2275  TEST_2275    0.002914  0.038057  0.000557  0.001432  0.647429  0.088411   \n",
       "2276  TEST_2276    0.007375  0.138987  0.009204 -0.009223  0.662440  0.155915   \n",
       "\n",
       "        INTS11     MXRA8  AL391244.2  ...   MT-ATP8   MT-ATP6    MT-CO3  \\\n",
       "0     0.097268  0.034879    0.003540  ...  0.235170  3.862041  3.982737   \n",
       "1     0.240284 -0.017169   -0.018786  ...  0.456486  3.082278  3.297927   \n",
       "2     0.309224  0.064749    0.004519  ...  0.241781  3.536777  3.723589   \n",
       "3     0.207002  0.001469   -0.001785  ...  0.176905  2.837038  3.019141   \n",
       "4     0.137148 -0.026325   -0.020580  ...  0.362357  3.555144  3.719625   \n",
       "...        ...       ...         ...  ...       ...       ...       ...   \n",
       "2272  0.328402 -0.018961    0.014256  ...  0.347511  3.373519  3.508855   \n",
       "2273  0.123594 -0.066736   -0.020474  ...  0.736833  3.992276  4.074471   \n",
       "2274  0.178514  0.011214   -0.003311  ...  0.313789  3.138010  3.208245   \n",
       "2275  0.144610  0.030398   -0.003570  ...  0.117869  3.018812  3.087460   \n",
       "2276  0.291150 -0.059186    0.021048  ...  0.397660  3.685444  3.702443   \n",
       "\n",
       "        MT-ND3   MT-ND4L    MT-ND4    MT-ND5    MT-CYB  BX004987.1  AL592183.1  \n",
       "0     3.181158  1.359486  3.760260  1.580052  3.442345    0.027794   -0.008535  \n",
       "1     2.582980  0.991278  3.135633  1.398719  2.869811    0.005809    0.022421  \n",
       "2     2.871158  1.050842  3.554796  1.496975  3.251728    0.008632    0.023132  \n",
       "3     2.288028  0.677141  2.832756  1.140466  2.583953    0.003331   -0.000910  \n",
       "4     3.186304  1.284143  3.463475  1.695590  3.230787    0.029154    0.009648  \n",
       "...        ...       ...       ...       ...       ...         ...         ...  \n",
       "2272  2.937503  1.068504  3.280492  1.330769  3.032022    0.015931    0.020866  \n",
       "2273  3.442501  1.737662  3.995407  2.129244  3.582622    0.008370    0.016813  \n",
       "2274  2.579027  0.846394  3.059098  1.266807  2.781508    0.005935    0.005726  \n",
       "2275  2.448882  0.642591  2.924597  0.926003  2.675950    0.007352    0.002037  \n",
       "2276  3.106719  1.029701  3.472698  1.530536  3.264972    0.007928    0.015556  \n",
       "\n",
       "[2277 rows x 3468 columns]"
      ]
     },
     "execution_count": 110,
     "metadata": {},
     "output_type": "execute_result"
    }
   ],
   "source": [
    "pred_df"
   ]
  },
  {
   "cell_type": "code",
   "execution_count": 112,
   "metadata": {},
   "outputs": [],
   "source": [
    "#  제출 파일 저장\n",
    "submission_file_path = r'C:\\Users\\82106\\Desktop\\데이콘\\이미지 학습\\데이터\\open\\submission.csv'\n",
    "pred_df.to_csv(submission_file_path, index=False)"
   ]
  },
  {
   "cell_type": "code",
   "execution_count": null,
   "metadata": {},
   "outputs": [],
   "source": []
  }
 ],
 "metadata": {
  "kernelspec": {
   "display_name": "Python 3",
   "language": "python",
   "name": "python3"
  },
  "language_info": {
   "codemirror_mode": {
    "name": "ipython",
    "version": 3
   },
   "file_extension": ".py",
   "mimetype": "text/x-python",
   "name": "python",
   "nbconvert_exporter": "python",
   "pygments_lexer": "ipython3",
   "version": "3.10.2"
  }
 },
 "nbformat": 4,
 "nbformat_minor": 2
}
