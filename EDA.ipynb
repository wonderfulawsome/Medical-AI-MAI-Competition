{
 "cells": [
  {
   "cell_type": "code",
   "execution_count": 3,
   "metadata": {},
   "outputs": [
    {
     "ename": "",
     "evalue": "",
     "output_type": "error",
     "traceback": [
      "\u001b[1;31mFailed to start the Kernel 'base (Python 3.9.12)'. \n",
      "\u001b[1;31mView Jupyter <a href='command:jupyter.viewOutput'>log</a> for further details. listen EFAULT: bad address in system call argument 127.0.0.1:9005"
     ]
    }
   ],
   "source": [
    "import os\n",
    "import matplotlib.pyplot as plt\n",
    "from PIL import Image\n",
    "\n",
    "# 이미지 폴더 경로 설정\n",
    "image_folder = r\"C:\\Users\\82106\\Desktop\\데이콘\\이미지 학습\\데이터\\open\\train\"\n",
    "\n",
    "# 폴더 내 이미지 파일 리스트 가져오기\n",
    "image_files = [f for f in os.listdir(image_folder) if f.endswith('.png')]\n",
    "\n",
    "# 전체 이미지 개수 출력\n",
    "print(f\"총 이미지 개수: {len(image_files)}\")\n",
    "\n",
    "# 처음 5개 이미지 파일명 출력\n",
    "print(\"처음 5개 이미지 파일:\")\n",
    "for file in image_files[:5]:\n",
    "    print(file)\n",
    "\n",
    "# 샘플 이미지 표시 (처음 4개)\n",
    "plt.figure(figsize=(5, 5))\n",
    "for i, file in enumerate(image_files[:4]):\n",
    "    img_path = os.path.join(image_folder, file)\n",
    "    img = Image.open(img_path)\n",
    "    plt.subplot(2, 2, i+1)\n",
    "    plt.imshow(img)\n",
    "    plt.title(file)\n",
    "    plt.axis('off')\n",
    "\n",
    "plt.tight_layout()\n",
    "plt.show()"
   ]
  },
  {
   "cell_type": "code",
   "execution_count": null,
   "metadata": {},
   "outputs": [],
   "source": [
    "import pandas as pd\n",
    "import matplotlib.pyplot as plt\n",
    "import seaborn as sns\n",
    "\n",
    "# CSV 파일 읽기\n",
    "df = pd.read_csv(r\"C:\\Users\\82106\\Desktop\\데이콘\\이미지 학습\\데이터\\open\\train.csv\")\n",
    "\n",
    "# 기본 정보 출력\n",
    "print(\"데이터셋 기본 정보:\")\n",
    "print(df.info())\n",
    "\n",
    "print(\"\\n처음 5개 행:\")\n",
    "print(df.head())\n",
    "\n",
    "print(\"\\n기술 통계량:\")\n",
    "print(df.describe())"
   ]
  },
  {
   "cell_type": "markdown",
   "metadata": {},
   "source": [
    "#### AL645608.7 ~ AL592183.1 : 각 유전자의 발현 정보 ( 유전자 총 3467개 존재 )"
   ]
  },
  {
   "cell_type": "markdown",
   "metadata": {},
   "source": [
    "### 데이터셋 기본 정보\n",
    "- 총 데이터 수: 6992개\n",
    "- 총 컬럼 수: 3469개\n",
    "  - `float64`: 3467개\n",
    "  - `object`: 2개 (`ID`, `path`)\n",
    "- 메모리 사용량: 185.1 MB 이상\n",
    "\n",
    "### 첫 5개 행 예시\n",
    "| ID        | path                      | AL645608.7 | HES4     | TNFRSF18  | TNFRSF4  | SDF4     | ACAP3    | INTS11   | MXRA8    | ... | BX004987.1 |\n",
    "|-----------|---------------------------|------------|----------|-----------|----------|----------|----------|----------|----------|-----|------------|\n",
    "| TRAIN_0000 | ./train/TRAIN_0000.png     | 0.000506   | 0.010635 | -0.000213 | -0.000846 | 1.512467 | 0.021131 | 0.024409 | 0.004109 | ... | -0.000464  |\n",
    "| TRAIN_0001 | ./train/TRAIN_0001.png     | 0.000506   | 0.010635 | -0.000213 | -0.000846 | 1.508787 | 0.021131 | 0.024409 | 0.004109 | ... | -0.000464  |\n",
    "| TRAIN_0002 | ./train/TRAIN_0002.png     | -0.000415  | 0.005658 | -0.000413 | 0.003148  | 0.109204 | 0.013978 | 0.049823 | 0.005327 | ... | -0.000464  |\n",
    "| TRAIN_0003 | ./train/TRAIN_0003.png     | -0.000855  | 0.004366 | 0.000684  | 0.000865  | 0.503090 | 0.295115 | 0.303922 | -0.004290 | ... | -0.000464  |\n",
    "| TRAIN_0004 | ./train/TRAIN_0004.png     | 0.000506   | 0.010635 | -0.000213 | -0.000846 | 0.905195 | 0.021131 | 1.597454 | 0.004109 | ... | -0.000464  |\n",
    "\n",
    "### 통계 요약\n",
    "- 주요 컬럼 (`AL645608.7`, `HES4`, `TNFRSF18`, `TNFRSF4`, `SDF4`)의 통계량:\n",
    "  - **AL645608.7**\n",
    "    - 최소값: -0.106878\n",
    "    - 최대값: 0.093544\n",
    "    - 평균: 0.000014\n",
    "  - **HES4**\n",
    "    - 최소값: 0.001086\n",
    "    - 최대값: 0.020787\n",
    "    - 평균: 0.010684\n",
    "  - **TNFRSF18**\n",
    "    - 최소값: -0.038882\n",
    "    - 최대값: 0.037168\n",
    "    - 평균: -0.000207\n",
    "  - **TNFRSF4**\n",
    "    - 최소값: -0.074292\n",
    "    - 최대값: 0.045146\n",
    "    - 평균: -0.000070\n",
    "  - **SDF4**\n",
    "    - 최소값: -0.033960\n",
    "    - 최대값: 3.749505\n",
    "    - 평균: 1.057970\n"
   ]
  },
  {
   "cell_type": "code",
   "execution_count": 5,
   "metadata": {},
   "outputs": [],
   "source": [
    "# 유전자 발현 정보 열만 선택\n",
    "gene_columns = df.columns[2:]  # ID와 path를 제외한 모든 열\n",
    "\n",
    "# 유전자 발현 정보의 평균과 표준편차 계산\n",
    "gene_mean = df[gene_columns].mean()\n",
    "gene_std = df[gene_columns].std()"
   ]
  },
  {
   "cell_type": "code",
   "execution_count": null,
   "metadata": {},
   "outputs": [],
   "source": [
    "# 상위 10개 평균 발현량이 높은 유전자\n",
    "top_10_genes = gene_mean.nlargest(10)\n",
    "\n",
    "print(\"\\n상위 10개 평균 발현량이 높은 유전자:\")\n",
    "print(top_10_genes)"
   ]
  },
  {
   "cell_type": "code",
   "execution_count": 13,
   "metadata": {},
   "outputs": [],
   "source": [
    "#한글폰트\n",
    "import matplotlib.pyplot as plt\n",
    "import matplotlib.font_manager as fm\n",
    "\n",
    "# 한글 폰트 경로 설정\n",
    "font_path = 'C:/Windows/Fonts/malgun.ttf'  # 여기서 'malgun.ttf'는 예시로 사용한 것이며, 실제 한글 폰트 파일로 변경해야 합니다.\n",
    "font_name = fm.FontProperties(fname=font_path).get_name()\n",
    "plt.rc('font', family=font_name)"
   ]
  },
  {
   "cell_type": "code",
   "execution_count": null,
   "metadata": {},
   "outputs": [],
   "source": [
    "# Seaborn 스타일 설정\n",
    "sns.set_style(\"whitegrid\")\n",
    "sns.set_palette(\"deep\")\n",
    "\n",
    "# 히스토그램: 전체 유전자의 평균 발현량 분포\n",
    "plt.figure(figsize=(12, 6))\n",
    "sns.histplot(gene_mean, bins=50, kde=True, color=\"skyblue\", edgecolor=\"navy\")\n",
    "plt.title(\"Distribution of Mean Expression Levels Across All Genes\", fontsize=16)\n",
    "plt.xlabel(\"Mean Expression Level\", fontsize=12)\n",
    "plt.ylabel(\"Number of Genes\", fontsize=12)\n",
    "plt.xticks(fontsize=10)\n",
    "plt.yticks(fontsize=10)\n",
    "plt.show()"
   ]
  },
  {
   "cell_type": "markdown",
   "metadata": {},
   "source": [
    "### 유전자 평균 발현 수준 분포 분석\n",
    "\n",
    "- 대부분의 유전자가 낮은 발현 수준을 보이는 전형적인 패턴을 관찰\n",
    "- 소수의 유전자만이 높은 발현 수준을 나타냄\n",
    "- 이는 **조직 특이적 유전자 발현**의 일반적 특성을 잘 반영"
   ]
  },
  {
   "cell_type": "code",
   "execution_count": null,
   "metadata": {},
   "outputs": [],
   "source": [
    "# 산점도: 평균 vs 표준편차\n",
    "plt.figure(figsize=(12, 6))\n",
    "sns.scatterplot(x=gene_mean, y=gene_std, alpha=0.6, color=\"coral\")\n",
    "plt.title(\"Mean Expression Level vs Standard Deviation for Genes\", fontsize=16)\n",
    "plt.xlabel(\"Mean Expression Level\", fontsize=12)\n",
    "plt.ylabel(\"Standard Deviation\", fontsize=12)\n",
    "plt.xticks(fontsize=10)\n",
    "plt.yticks(fontsize=10)\n",
    "\n",
    "# 회귀선 추가\n",
    "sns.regplot(x=gene_mean, y=gene_std, scatter=False, color=\"red\")\n",
    "\n",
    "plt.show()"
   ]
  },
  {
   "cell_type": "markdown",
   "metadata": {},
   "source": [
    "### 유전자별 평균 발현 수준과 표준편차\n",
    "\n",
    "- 평균 발현 수준과 표준편차 사이에는 양의 상관관계가 있어, 발현 수준이 높을수록 변동성도 증가하는 경향을 보입니다.\n",
    "\n",
    "- 유전자 발현 분포는 극단적인 오른쪽 꼬리(right-skewed) 형태를 띠며, 이는 소수의 유전자만이 매우 높은 발현 수준을 가짐을 나타냅니다."
   ]
  },
  {
   "cell_type": "code",
   "execution_count": null,
   "metadata": {},
   "outputs": [],
   "source": [
    "# 유전자 발현 데이터만 선택 (ID와 path 열 제외)\n",
    "gene_data = df.iloc[:, 2:]\n",
    "\n",
    "# 각 유전자의 통계 계산\n",
    "gene_stats = gene_data.agg(['mean', 'median', 'std', 'min', 'max']).T\n",
    "\n",
    "# 상위 20개 평균 발현량이 높은 유전자 선택\n",
    "top_20_genes = gene_stats.sort_values('mean', ascending=False).head(20)\n",
    "\n",
    "# 박스플롯 생성\n",
    "plt.figure(figsize=(15, 10))\n",
    "sns.boxplot(data=df[top_20_genes.index])\n",
    "plt.title('Box Plots for Top 20 Highly Expressed Genes')\n",
    "plt.xticks(rotation=90)\n",
    "plt.ylabel('Expression Level')\n",
    "plt.tight_layout()\n",
    "plt.show()"
   ]
  },
  {
   "cell_type": "code",
   "execution_count": 31,
   "metadata": {},
   "outputs": [],
   "source": [
    "# 하위 20개 평균 발현량이 낮은 유전자 선택\n",
    "bottom_20_genes = gene_stats.sort_values('mean').head(20)\n",
    "\n",
    "# 중간 20개 유전자 선택\n",
    "middle_20_genes = gene_stats.sort_values('mean').iloc[len(gene_stats)//2-10:len(gene_stats)//2+10]"
   ]
  },
  {
   "cell_type": "code",
   "execution_count": null,
   "metadata": {},
   "outputs": [],
   "source": [
    "# 하위 20개 유전자에 대한 박스플롯 생성\n",
    "plt.figure(figsize=(15, 10))\n",
    "sns.boxplot(data=df[bottom_20_genes.index])\n",
    "plt.title('Box Plots for Bottom 20 Genes with Lowest Expression')\n",
    "plt.xticks(rotation=90)\n",
    "plt.ylabel('Expression Level')\n",
    "plt.tight_layout()\n",
    "plt.show()"
   ]
  },
  {
   "cell_type": "code",
   "execution_count": null,
   "metadata": {},
   "outputs": [],
   "source": [
    "# 중간 20개 유전자에 대한 박스플롯 생성\n",
    "plt.figure(figsize=(15, 10))\n",
    "sns.boxplot(data=df[middle_20_genes.index])\n",
    "plt.title('Box Plots for 20 Genes with Median Expression')\n",
    "plt.xticks(rotation=90)\n",
    "plt.ylabel('Expression Level')\n",
    "plt.tight_layout()\n",
    "plt.show()"
   ]
  },
  {
   "cell_type": "markdown",
   "metadata": {},
   "source": [
    "### 하위 20개 유전자 발현 분포:\n",
    "- 대부분의 유전자가 매우 낮은 발현 수준(0에 가까움)을 보임\n",
    "\n",
    "### 중간 20개 유전자 발현 분포:\n",
    "\n",
    "- 대부분 0에 가까운 발현\n",
    "- 평균 하위 유전자와의 차이는 0.75Q 이상의 값들은 0.5이상의 값도 가지고있음"
   ]
  },
  {
   "cell_type": "markdown",
   "metadata": {},
   "source": []
  }
 ],
 "metadata": {
  "kernelspec": {
   "display_name": "base",
   "language": "python",
   "name": "python3"
  },
  "language_info": {
   "codemirror_mode": {
    "name": "ipython",
    "version": 3
   },
   "file_extension": ".py",
   "mimetype": "text/x-python",
   "name": "python",
   "nbconvert_exporter": "python",
   "pygments_lexer": "ipython3",
   "version": "3.9.12"
  }
 },
 "nbformat": 4,
 "nbformat_minor": 2
}
